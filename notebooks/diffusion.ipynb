{
 "cells": [
  {
   "cell_type": "markdown",
   "metadata": {},
   "source": [
    "# Solving a diffusion PDE on a GAMer mesh using FEniCS\n",
    "This tutorial will walk you through the process of setting up and solving a diffusion partial differential equation (PDE) using a mesh imported from GAMer into FEniCS\n"
   ]
  },
  {
   "cell_type": "code",
   "execution_count": 1,
   "metadata": {
    "scrolled": true
   },
   "outputs": [],
   "source": [
    "import pygamer\n",
    "import math"
   ]
  },
  {
   "cell_type": "markdown",
   "metadata": {},
   "source": [
    "## Generating the mesh using GAMer"
   ]
  },
  {
   "cell_type": "code",
   "execution_count": 2,
   "metadata": {},
   "outputs": [
    {
     "name": "stdout",
     "output_type": "stream",
     "text": [
      "Number of vertices: 1538\n",
      "Number of Faces: 3072\n",
      "Number of Regions: 1\n",
      "Number of Holes: 0\n",
      "Region point: Tensor({0}:-0.875; {1}:0.333333; {2}:-0.333333)\n"
     ]
    }
   ],
   "source": [
    "# generate the surface mesh for a cube\n",
    "smesh = pygamer.surfacemesh.cube(5)\n",
    "\n",
    "# Mark sides of the face to use later for boundary conditions\n",
    "for fid in smesh.faceIDs:\n",
    "    indices = fid.indices()\n",
    "    z_coords = [smesh.getVertex([idx]).data().position[2] for idx in list(indices)]\n",
    "    if all([z==1 for z in z_coords]):\n",
    "        fid.data().marker = 2\n",
    "    elif all([z==-1 for z in z_coords]):\n",
    "        fid.data().marker = 3\n",
    "    else:\n",
    "        fid.data().marker = 4\n",
    "        \n",
    "# construct the volumetric mesh\n",
    "vmesh = pygamer.makeTetMesh([smesh], \"q1.1/15O10/2ACVY\")\n",
    "\n",
    "# write volumetric mesh into dolfin readable format\n",
    "pygamer.writeDolfin('outputTetMesh.xml', vmesh)\n",
    "pygamer.writeVTK('outputTetMesh.vtk', vmesh)"
   ]
  },
  {
   "cell_type": "markdown",
   "metadata": {},
   "source": [
    "## Setup the model problem in FEniCS\n",
    "\n",
    "### Model problem: strong formulation"
   ]
  },
  {
   "cell_type": "markdown",
   "metadata": {},
   "source": [
    "We will model diffusion in a $2 \\times 2 \\times 2$ cube with an exponentially decaying source term centered at the origin, an influx boundary condition at the $z=1$ surface, an outflux boundary condition at the $z=-1$ surface, and a $u=0$ Dirichlet boundary condition on the four other sides of the cube."
   ]
  },
  {
   "cell_type": "markdown",
   "metadata": {},
   "source": [
    "Find $u(\\mathbf{x},t)$ such that\n",
    "\n",
    "\\begin{align}\n",
    "\\frac{\\partial u}{\\partial t} &= D\\nabla^2 u + f ~~\\text{in}~~ \\Omega \\\\\n",
    "D(n \\cdot \\nabla u) &= j_\\text{in} ~~\\text{on}~~ \\partial\\Omega_\\text{in} \\\\\n",
    "D(n \\cdot \\nabla u) &= j_\\text{out} ~~\\text{on}~~ \\partial\\Omega_\\text{out} \\\\\n",
    "u(\\mathbf{x},t=0) &= u_0 \\\\\n",
    "u(\\mathbf{x},t) &= 0 ~~\\text{on}~~ \\partial\\Omega_\\text{dirichlet} \\\\\n",
    "\\partial\\Omega &= \\partial\\Omega_\\text{in} \\cup \\partial\\Omega_\\text{out} \\cup \\partial\\Omega_\\text{dirichlet}\n",
    "\\end{align}\n",
    " \n",
    "where $f$ is the source term, $f(\\mathbf{x}) = 32 - e^{||\\mathbf{x}||}$, $D$ is the diffusion coefficient, $j_\\text{in}$ and $j_\\text{out}$ are the influx/outflux rates for the Neumann boundary conditions, and $u_0$ is the initial condition."
   ]
  },
  {
   "cell_type": "code",
   "execution_count": 1,
   "metadata": {},
   "outputs": [],
   "source": [
    "import dolfin as d\n",
    "\n",
    "# Model parameters\n",
    "D    = 1 # diffusion coefficient\n",
    "u0   = d.Constant(0.001) # initial condition\n",
    "dt   = 0.1 # time step size\n",
    "T    = 1.0 # final time\n",
    "jin  = 10.0 # influx rate\n",
    "jout = -50.0 # outflux rate\n",
    "dist = d.Expression(\"sqrt(pow(x[0],2) + pow(x[1],2) + pow(x[2],2))\", degree=1)\n",
    "f    = d.Expression(\"32 - exp(dist)\", dist=dist, degree=1) # source term\n",
    "t    = 0.0 # current time\n",
    "\n",
    "numsteps = round(T/dt)"
   ]
  },
  {
   "cell_type": "markdown",
   "metadata": {},
   "source": [
    "### Model problem: weak/variational formulation\n",
    "\n",
    "The finite element method uses a variational formulation of the PDE which allows us to search for solutions from a larger function space. Equations input into FEniCS are done so through their variational formulation; we will now show how to convert our problem into a valid FEniCS input.\n",
    "\n",
    "First we multiply the governing PDE by a test function, $v$, coming from a function space $V$, integrate over the domain and apply the divergence theorem to obtain the following variational formulation:\n",
    "\n",
    "\\begin{equation}\n",
    "\\int_\\Omega \\frac{\\partial u}{\\partial t}v \\,dx = -\\int_\\Omega D\\nabla u \\cdot \\nabla v \\,dx + \\int_{\\partial\\Omega} D(n\\cdot\\nabla u)v \\,ds + \\int_\\Omega fv \\,dx ~~\\text{in}~~ \\Omega \n",
    "\\end{equation}\n",
    "\n",
    "We discretize the time-derivative with a backward Euler scheme due to its simplicity and unconditional stability properties\n",
    "$$\\frac{\\partial u}{\\partial t} \\approx \\frac{u - u_n}{\\Delta t}$$\n",
    "where $u_n$ represents the (known) solution computed at the previous timestep. We further simplify the variational formulation by inserting the Neumann boundary conditions and using the shorthand notation where $\\langle \\cdot , \\cdot \\rangle$ represents the inner-product over $\\Omega$ and $\\langle \\cdot , \\cdot \\rangle_{\\partial\\Omega_\\text{in}}$ represents the inner-product on the boundary $\\partial\\Omega_\\text{in}$. Terms are separated onto the left or right hand sides by their dependence on $u$:\n",
    "\n",
    "\\begin{equation}\n",
    "\\langle u,v \\rangle  + D\\Delta t \\langle \\nabla u,\\nabla v \\rangle = \\Delta t\\langle f,v \\rangle +  \\Delta t \\langle j_\\text{in},v \\rangle_{\\partial\\Omega_\\text{in}} + \\Delta t \\langle j_\\text{out},v \\rangle_{\\partial\\Omega_\\text{out}} + \\langle u_n,v \\rangle \n",
    "\\end{equation}\n",
    "\n",
    "Notice that since $u_n$ is a known value it is not dependent on the unknown, $u$, and therefore is placed on the right hand side. Also, since $D(\\mathbf{n}\\cdot \\nabla u)=0$ on the no-flux boundary those terms drop out of the variational formulation.\n",
    "\n",
    "In the abstract form this is written as,\n",
    "\\begin{align}\n",
    "a(u,v) &= \\langle u,v \\rangle  + D\\Delta t \\langle \\nabla u,\\nabla v \\rangle \\\\\n",
    "L(v) &= \\Delta t\\langle f,v \\rangle + \\Delta t \\langle j_\\text{in},v \\rangle_{\\partial\\Omega_\\text{in}} + \\Delta t \\langle j_\\text{out},v \\rangle_{\\partial\\Omega_\\text{out}} + \\langle u_n,v \\rangle \n",
    "\\end{align}\n",
    "\n",
    "where $a(u,v)$ is a bilinear form and $L(v)$ is a linear functional. Note that the Dirichlet boundary condition does not appear in the variational form and therefore must be enforced separately."
   ]
  },
  {
   "cell_type": "code",
   "execution_count": 2,
   "metadata": {},
   "outputs": [],
   "source": [
    "# Import the mesh and construct a linear Lagrange function space over the mesh\n",
    "dolfin_mesh = d.Mesh('outputTetMesh.xml')\n",
    "V = d.FunctionSpace(dolfin_mesh,'P',1)"
   ]
  },
  {
   "cell_type": "code",
   "execution_count": 3,
   "metadata": {},
   "outputs": [],
   "source": [
    "# Define trial and test functions\n",
    "u = d.TrialFunction(V)\n",
    "v = d.TestFunction(V)\n",
    "# Known solution corresponding to previous timestep. Initialize with initial condition\n",
    "un = d.interpolate(u0,V)"
   ]
  },
  {
   "cell_type": "code",
   "execution_count": 4,
   "metadata": {},
   "outputs": [],
   "source": [
    "# Earlier we marked faces on the influx boundary with 2 and faces on the outflux boundaries as 3\n",
    "\n",
    "# define integration domains\n",
    "face_dimension = 2 # we marked faces which have a topological dimension of 2\n",
    "meshBoundary = d.MeshFunction(\"size_t\",dolfin_mesh,face_dimension,dolfin_mesh.domains())\n",
    "dx = d.Measure('dx',domain=dolfin_mesh)\n",
    "ds = d.Measure('ds',domain=dolfin_mesh,subdomain_data=meshBoundary)"
   ]
  },
  {
   "cell_type": "code",
   "execution_count": 5,
   "metadata": {},
   "outputs": [],
   "source": [
    "# define bilinear and linear forms\n",
    "a = u*v*dx + D*dt*d.inner(d.grad(u),d.grad(v))*dx\n",
    "L = dt*f*v*dx + dt*jin*v*ds(2) + dt*jout*v*ds(3) + un*v*dx"
   ]
  },
  {
   "cell_type": "markdown",
   "metadata": {},
   "source": [
    "### Solve and store solution\n"
   ]
  },
  {
   "cell_type": "markdown",
   "metadata": {},
   "source": [
    "Solutions are saved in the $\\texttt{.vtk}$ format and can be visualized using software such as Paraview"
   ]
  },
  {
   "cell_type": "code",
   "execution_count": 6,
   "metadata": {
    "scrolled": true
   },
   "outputs": [
    {
     "name": "stdout",
     "output_type": "stream",
     "text": [
      "Time step 1 complete ...\n",
      "Time step 2 complete ...\n",
      "Time step 3 complete ...\n",
      "Time step 4 complete ...\n",
      "Time step 5 complete ...\n",
      "Time step 6 complete ...\n",
      "Time step 7 complete ...\n",
      "Time step 8 complete ...\n",
      "Time step 9 complete ...\n",
      "Time step 10 complete ...\n"
     ]
    }
   ],
   "source": [
    "filename = 'solution/dolfinOut.pvd'\n",
    "vtkfile = d.File(filename)\n",
    "\n",
    "# store the initial condition\n",
    "u = d.Function(V)\n",
    "un.rename(\"u\", \"solution\")\n",
    "u.rename(\"u\", \"solution\")\n",
    "vtkfile << (un,t)\n",
    "\n",
    "bc = d.DirichletBC(V,d.Constant(0),meshBoundary,4)\n",
    "\n",
    "# Main loop\n",
    "for idx in range(numsteps):\n",
    "    # step forward in time\n",
    "    t += dt \n",
    "    \n",
    "    d.solve(a==L,u,bcs=bc)\n",
    "    \n",
    "    # save solution to file\n",
    "    vtkfile << (u,t)\n",
    "    \n",
    "    # assign just computed solution to un\n",
    "    un.assign(u)\n",
    "    \n",
    "    print('Time step %d complete ...' % int(idx+1))"
   ]
  },
  {
   "cell_type": "markdown",
   "metadata": {},
   "source": [
    "<img src=\"diffusion_demo_solution.png\">"
   ]
  }
 ],
 "metadata": {
  "kernelspec": {
   "display_name": "Python [conda env:fenicsproject]",
   "language": "python",
   "name": "conda-env-fenicsproject-py"
  },
  "language_info": {
   "codemirror_mode": {
    "name": "ipython",
    "version": 3
   },
   "file_extension": ".py",
   "mimetype": "text/x-python",
   "name": "python",
   "nbconvert_exporter": "python",
   "pygments_lexer": "ipython3",
   "version": "3.7.3"
  }
 },
 "nbformat": 4,
 "nbformat_minor": 2
}
