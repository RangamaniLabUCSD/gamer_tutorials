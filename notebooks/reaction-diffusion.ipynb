{
 "cells": [
  {
   "cell_type": "markdown",
   "metadata": {},
   "source": [
    "# Solving a reaction diffusion PDE on a GAMer mesh using FEniCS  \n",
    "\n",
    "This tutorial will walk you through the process of setting up and solving a reaction diffusion partial differential equation (PDE) using a mesh imported from GAMer via FEniCS"
   ]
  },
  {
   "cell_type": "code",
   "execution_count": 1,
   "metadata": {},
   "outputs": [],
   "source": [
    "import pygamer\n",
    "import dolfin as d\n",
    "import math"
   ]
  },
  {
   "cell_type": "markdown",
   "metadata": {},
   "source": [
    "## Generating the mesh using GAMer"
   ]
  },
  {
   "cell_type": "code",
   "execution_count": 2,
   "metadata": {},
   "outputs": [],
   "source": [
    "# generate the surface mesh for a cube\n",
    "smesh = pygamer.surfacemesh.cube(5)"
   ]
  },
  {
   "cell_type": "code",
   "execution_count": null,
   "metadata": {},
   "outputs": [],
   "source": [
    "# Mark all faces on one side of the cube\n",
    "for fid in smesh.faceIDs:\n",
    "    isInflux = True # flag to mark faces\n",
    "    indices = fid.indices()\n",
    "    for idx in indices:\n",
    "        v = smesh.getVertex([idx])\n",
    "        if math.isclose(v.data().position[0],-1.0):\n",
    "            toMark = False\n",
    "            \n",
    "    if isInflux:\n",
    "        fid.data().marker = 2\n",
    "    #else:\n",
    "    #    fid.data().marker = 3"
   ]
  },
  {
   "cell_type": "code",
   "execution_count": null,
   "metadata": {
    "scrolled": true
   },
   "outputs": [],
   "source": [
    "# construct the volumetric mesh\n",
    "vmesh = pygamer.makeTetMesh([smesh], \"q1.3/10O8/7AC\")"
   ]
  },
  {
   "cell_type": "code",
   "execution_count": null,
   "metadata": {},
   "outputs": [],
   "source": [
    "# write volumetric mesh into dolfin readable format\n",
    "pygamer.writeDolfin('outputTetMesh.xml', vmesh)"
   ]
  },
  {
   "cell_type": "markdown",
   "metadata": {},
   "source": [
    "## Setup the model problem in FEniCS"
   ]
  },
  {
   "cell_type": "markdown",
   "metadata": {},
   "source": [
    "### Model problem: strong formulation"
   ]
  },
  {
   "cell_type": "markdown",
   "metadata": {},
   "source": [
    "Find $u(\\mathbf{x},t)$ such that\n",
    "\n",
    "\\begin{align}\n",
    "\\frac{\\partial u}{\\partial t} &= D\\nabla^2 u + f ~~\\text{in}~~ \\Omega \\\\\n",
    "D(n \\cdot \\nabla u) &= j_\\text{in} ~~\\text{on}~~ \\partial\\Omega_\\text{in} \\\\\n",
    "D(n \\cdot \\nabla u) &= j_\\text{out} ~~\\text{on}~~ \\partial\\Omega_\\text{out} \\\\\n",
    "\\partial\\Omega &= \\partial\\Omega_\\text{in} \\cup \\partial\\Omega_\\text{out}\n",
    "\\end{align}\n",
    "\n",
    "where $f=-0.5$ is a constant decay rate, $D=5.0$ is the diffusion coefficient, and $j_\\text{in}=3.0$ and $j_\\text{out}=-1.0$ are the influx/outflux rates for the Neumann boundary conditions."
   ]
  },
  {
   "cell_type": "code",
   "execution_count": 3,
   "metadata": {},
   "outputs": [],
   "source": [
    "# Model parameters\n",
    "D    = 5 # diffusion coefficient\n",
    "u0   = d.Constant(0.0) # initial condition\n",
    "dt   = 0.1 # time step size\n",
    "T    = 5.0 # final time\n",
    "jin  = 3.0 # influx rate\n",
    "jout = -1.0 # outflux rate\n",
    "f    = -0.5 # decay rate"
   ]
  },
  {
   "cell_type": "code",
   "execution_count": 4,
   "metadata": {},
   "outputs": [],
   "source": [
    "numsteps = round(T/dt)"
   ]
  },
  {
   "cell_type": "markdown",
   "metadata": {},
   "source": [
    "### Model problem: weak/variational formulation"
   ]
  },
  {
   "cell_type": "markdown",
   "metadata": {},
   "source": [
    "We can multiply the governing PDE by a test function, $v$, coming from a function space $V$, integrate over the domain and apply the divergence theorem to obtain the following variational formulation:\n",
    "\n",
    "\\begin{equation}\n",
    "\\int_\\Omega \\frac{\\partial u}{\\partial t}v \\,dx = -\\int_\\Omega D\\nabla u \\cdot \\nabla v \\,dx + \\int_{\\partial\\Omega} D(n\\cdot\\nabla u)v \\,ds + \\int_\\Omega fv \\,dx ~~\\text{in}~~ \\Omega \n",
    "\\end{equation}\n",
    "\n",
    "We discretize the time-derivative with a backward Euler scheme for stability purposes\n",
    "$$\\frac{\\partial u}{\\partial t} \\approx \\frac{u - u_n}{\\Delta t}$$\n",
    "where $u_n$ represents the (known) solution computed at the previous timestep. We further simplify the variational formulation by inserting the Neumann boundary conditions and using the shorthand notation where $\\langle \\cdot , \\cdot \\rangle$ represents the inner-product over $\\Omega$ and $\\langle \\cdot , \\cdot \\rangle_{\\partial\\Omega_\\text{in}}$ represents the inner-product on the boundary $\\partial\\Omega_\\text{in}$; terms are separated by their dependence on $u$:\n",
    "\n",
    "\\begin{equation}\n",
    "\\langle u,v \\rangle  + D\\Delta t \\langle \\nabla u,\\nabla v \\rangle = \\Delta t\\langle f,v \\rangle +  \\Delta t \\langle j_\\text{in},v \\rangle_{\\partial\\Omega_\\text{in}} + \\Delta t \\langle j_\\text{out},v \\rangle_{\\partial\\Omega_\\text{out}} + \\langle u_n,v \\rangle \n",
    "\\end{equation}"
   ]
  },
  {
   "cell_type": "markdown",
   "metadata": {},
   "source": [
    "In the abstract bilinear form this is written as,\n",
    "\\begin{align}\n",
    "a(u,v) &= \\langle u,v \\rangle  + D\\Delta t \\langle \\nabla u,\\nabla v \\rangle \\\\\n",
    "L(v) &= \\Delta t\\langle f,v \\rangle + \\Delta t \\langle j_\\text{in},v \\rangle_{\\partial\\Omega_\\text{in}} + \\Delta t \\langle j_\\text{out},v \\rangle_{\\partial\\Omega_\\text{out}} + \\langle u_n,v \\rangle \n",
    "\\end{align}"
   ]
  },
  {
   "cell_type": "code",
   "execution_count": 23,
   "metadata": {},
   "outputs": [],
   "source": [
    "# Construct linear Lagrange function space over the mesh\n",
    "dolfin_mesh = d.Mesh('outputTetMesh.xml')\n",
    "V = d.FunctionSpace(dolfin_mesh,'P',1)"
   ]
  },
  {
   "cell_type": "code",
   "execution_count": 24,
   "metadata": {},
   "outputs": [],
   "source": [
    "# Define trial and test functions\n",
    "u = d.TrialFunction(V)\n",
    "v = d.TestFunction(V)\n",
    "# Known solution corresponding to previous timestep. Initialize with initial condition\n",
    "un = d.interpolate(u0,V)"
   ]
  },
  {
   "cell_type": "markdown",
   "metadata": {},
   "source": [
    "Earlier we marked faces on the influx boundary with 2 and faces on the outflux boundaries as 3"
   ]
  },
  {
   "cell_type": "code",
   "execution_count": 25,
   "metadata": {},
   "outputs": [],
   "source": [
    "# define bilinear and linear forms\n",
    "a = u*v*d.dx + D*dt*d.inner(d.grad(u),d.grad(v))*d.dx\n",
    "L = f*v*d.dx + dt*jin*v*d.ds(2) + dt*jout*v*d.ds(3)+ un*v*d.dx"
   ]
  },
  {
   "cell_type": "markdown",
   "metadata": {},
   "source": [
    "### Solve and store solution"
   ]
  },
  {
   "cell_type": "code",
   "execution_count": 26,
   "metadata": {},
   "outputs": [],
   "source": [
    "vtkfile = d.File('solution/dolfinOut.pvd')\n",
    "\n",
    "# store the initial condition\n",
    "t = 0.0 # current time\n",
    "u = d.Function(V)\n",
    "#u = un\n",
    "vtkfile << (un,t)"
   ]
  },
  {
   "cell_type": "code",
   "execution_count": 27,
   "metadata": {},
   "outputs": [
    {
     "name": "stdout",
     "output_type": "stream",
     "text": [
      "Time step 1 complete ...\n",
      "Time step 2 complete ...\n",
      "Time step 3 complete ...\n",
      "Time step 4 complete ...\n",
      "Time step 5 complete ...\n",
      "Time step 6 complete ...\n",
      "Time step 7 complete ...\n",
      "Time step 8 complete ...\n",
      "Time step 9 complete ...\n",
      "Time step 10 complete ...\n",
      "Time step 11 complete ...\n",
      "Time step 12 complete ...\n",
      "Time step 13 complete ...\n",
      "Time step 14 complete ...\n",
      "Time step 15 complete ...\n",
      "Time step 16 complete ...\n",
      "Time step 17 complete ...\n",
      "Time step 18 complete ...\n",
      "Time step 19 complete ...\n",
      "Time step 20 complete ...\n",
      "Time step 21 complete ...\n",
      "Time step 22 complete ...\n",
      "Time step 23 complete ...\n",
      "Time step 24 complete ...\n",
      "Time step 25 complete ...\n",
      "Time step 26 complete ...\n",
      "Time step 27 complete ...\n",
      "Time step 28 complete ...\n",
      "Time step 29 complete ...\n",
      "Time step 30 complete ...\n",
      "Time step 31 complete ...\n",
      "Time step 32 complete ...\n",
      "Time step 33 complete ...\n",
      "Time step 34 complete ...\n",
      "Time step 35 complete ...\n",
      "Time step 36 complete ...\n",
      "Time step 37 complete ...\n",
      "Time step 38 complete ...\n",
      "Time step 39 complete ...\n",
      "Time step 40 complete ...\n",
      "Time step 41 complete ...\n",
      "Time step 42 complete ...\n",
      "Time step 43 complete ...\n",
      "Time step 44 complete ...\n",
      "Time step 45 complete ...\n",
      "Time step 46 complete ...\n",
      "Time step 47 complete ...\n",
      "Time step 48 complete ...\n",
      "Time step 49 complete ...\n",
      "Time step 50 complete ...\n"
     ]
    }
   ],
   "source": [
    "# Main loop\n",
    "for idx in range(numsteps):\n",
    "    # step forward in time\n",
    "    t += dt \n",
    "    \n",
    "    d.solve(a==L,u,bcs=[])\n",
    "    \n",
    "    # save solution to file\n",
    "    vtkfile << (u,t)\n",
    "    \n",
    "    # assign just computed solution to un\n",
    "    un.assign(u)\n",
    "    \n",
    "    print('Time step %d complete ...' % int(idx+1))\n"
   ]
  },
  {
   "cell_type": "code",
   "execution_count": null,
   "metadata": {},
   "outputs": [],
   "source": []
  }
 ],
 "metadata": {
  "kernelspec": {
   "display_name": "Python 3",
   "language": "python",
   "name": "python3"
  },
  "language_info": {
   "codemirror_mode": {
    "name": "ipython",
    "version": 3
   },
   "file_extension": ".py",
   "mimetype": "text/x-python",
   "name": "python",
   "nbconvert_exporter": "python",
   "pygments_lexer": "ipython3",
   "version": "3.6.8"
  }
 },
 "nbformat": 4,
 "nbformat_minor": 2
}
