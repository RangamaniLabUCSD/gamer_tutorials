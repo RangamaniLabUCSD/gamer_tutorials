{
 "cells": [
  {
   "cell_type": "markdown",
   "metadata": {},
   "source": [
    "# Solving a reaction diffusion PDE on a GAMer mesh using FEniCS  \n",
    "\n",
    "This tutorial will walk you through the process of setting up and solving a reaction diffusion partial differential equation (PDE) using a mesh imported from GAMer via FEniCS"
   ]
  },
  {
   "cell_type": "code",
   "execution_count": 2,
   "metadata": {},
   "outputs": [
    {
     "ename": "ModuleNotFoundError",
     "evalue": "No module named 'pygamer'",
     "output_type": "error",
     "traceback": [
      "\u001b[0;31m---------------------------------------------------------------------------\u001b[0m",
      "\u001b[0;31mModuleNotFoundError\u001b[0m                       Traceback (most recent call last)",
      "\u001b[0;32m<ipython-input-2-aa465c4e4dcb>\u001b[0m in \u001b[0;36m<module>\u001b[0;34m\u001b[0m\n\u001b[0;32m----> 1\u001b[0;31m \u001b[0;32mimport\u001b[0m \u001b[0mpygamer\u001b[0m\u001b[0;34m\u001b[0m\u001b[0m\n\u001b[0m\u001b[1;32m      2\u001b[0m \u001b[0;32mimport\u001b[0m \u001b[0mdolfin\u001b[0m \u001b[0;32mas\u001b[0m \u001b[0md\u001b[0m\u001b[0;34m\u001b[0m\u001b[0m\n",
      "\u001b[0;31mModuleNotFoundError\u001b[0m: No module named 'pygamer'"
     ]
    }
   ],
   "source": [
    "import pygamer\n",
    "import dolfin as d"
   ]
  },
  {
   "cell_type": "markdown",
   "metadata": {},
   "source": [
    "## Generating the mesh using GAMer"
   ]
  },
  {
   "cell_type": "code",
   "execution_count": 5,
   "metadata": {},
   "outputs": [
    {
     "ename": "NameError",
     "evalue": "name 'pygamer' is not defined",
     "output_type": "error",
     "traceback": [
      "\u001b[0;31m---------------------------------------------------------------------------\u001b[0m",
      "\u001b[0;31mNameError\u001b[0m                                 Traceback (most recent call last)",
      "\u001b[0;32m<ipython-input-5-d3580cce4111>\u001b[0m in \u001b[0;36m<module>\u001b[0;34m\u001b[0m\n\u001b[1;32m      1\u001b[0m \u001b[0;31m# generate a cube\u001b[0m\u001b[0;34m\u001b[0m\u001b[0;34m\u001b[0m\u001b[0m\n\u001b[0;32m----> 2\u001b[0;31m \u001b[0mpygamer\u001b[0m\u001b[0;34m.\u001b[0m\u001b[0msurfacemesh\u001b[0m\u001b[0;34m.\u001b[0m\u001b[0mcube\u001b[0m\u001b[0;34m(\u001b[0m\u001b[0;36m5\u001b[0m\u001b[0;34m)\u001b[0m\u001b[0;34m\u001b[0m\u001b[0m\n\u001b[0m",
      "\u001b[0;31mNameError\u001b[0m: name 'pygamer' is not defined"
     ]
    }
   ],
   "source": [
    "# generate a cube\n",
    "pygamer.surfacemesh.cube(5)"
   ]
  },
  {
   "cell_type": "code",
   "execution_count": null,
   "metadata": {},
   "outputs": [],
   "source": [
    "for fid in m.faceIDs:\n",
    "    indices = fid.indices()\n",
    "    for idx in indices:\n",
    "            print(idx)\n",
    "            v = m.getVertex([idx])\n",
    "            print(v)\n",
    "            print(v.data())"
   ]
  },
  {
   "cell_type": "markdown",
   "metadata": {},
   "source": [
    "Model problem:\n",
    "\n",
    "Find $u(\\mathbf{x},t)$ such that\n",
    "\n",
    "\\begin{align}\n",
    "\\frac{\\partial u}{\\partial t} &= D\\nabla^2 u + f ~~\\text{in}~~ \\Omega \\\\\n",
    "D(n \\cdot \\nabla u) &= j(\\mathbf{x}) ~~\\text{on}~~ \\partial\\Omega\n",
    "\\end{align}\n",
    "\n",
    "where $f=-0.5$ is a constant decay rate, $D=5.0$ is the diffusion coefficient, and $j=3.0$ is the influx rate for the Neumann boundary condition."
   ]
  },
  {
   "cell_type": "markdown",
   "metadata": {},
   "source": [
    "We can multiply the governing PDE by a test function, $v$, coming from a function space $V$, integrate over the domain and apply the divergence theorem to obtain the following variational formulation:\n",
    "\n",
    "\\begin{equation}\n",
    "\\int_\\Omega \\frac{\\partial u}{\\partial t}v \\,dx = -\\int_\\Omega D\\nabla u \\cdot \\nabla v \\,dx + \\int_{\\partial\\Omega} D(n\\cdot\\nabla u)v \\,ds + \\int_\\Omega fv \\,dx ~~\\text{in}~~ \\Omega \n",
    "\\end{equation}\n",
    "\n",
    "We discretize the time-derivative with a backward Euler scheme for stability purposes\n",
    "$$\\frac{\\partial u}{\\partial t} \\approx \\frac{u - u_n}{\\Delta t}$$\n",
    "where $u_n$ represents the (known) solution computed at the previous timestep. We rewrite the variational formulation using the shorthand notation where $\\langle . , . \\rangle$ represents the inner-product over $\\Omega$ and $\\langle . , . \\rangle_\\Gamma$ represents the inner-product on the boundary and separate terms by dependence on $u$:\n",
    "\n",
    "\\begin{equation}\n",
    "\\langle u,v \\rangle  + D\\Delta t \\langle \\nabla u,\\nabla v \\rangle = \\langle f,v \\rangle +  \\Delta t \\langle j,v \\rangle_\\Gamma + \\langle u_n,v \\rangle \n",
    "\\end{equation}"
   ]
  },
  {
   "cell_type": "markdown",
   "metadata": {},
   "source": [
    "In the abstract form this is written as,\n",
    "\\begin{align}\n",
    "a(u,v) &= \\langle u,v \\rangle  + D\\Delta t \\langle \\nabla u,\\nabla v \\rangle \\\\\n",
    "L(v) &= \\langle f,v \\rangle +  \\Delta t \\langle j,v \\rangle_\\Gamma + \\langle u_n,v \\rangle \n",
    "\\end{align}"
   ]
  },
  {
   "cell_type": "code",
   "execution_count": 1,
   "metadata": {
    "scrolled": true
   },
   "outputs": [
    {
     "ename": "ModuleNotFoundError",
     "evalue": "No module named 'dolfin'",
     "output_type": "error",
     "traceback": [
      "\u001b[0;31m---------------------------------------------------------------------------\u001b[0m",
      "\u001b[0;31mModuleNotFoundError\u001b[0m                       Traceback (most recent call last)",
      "\u001b[0;32m<ipython-input-1-4a902b2836dc>\u001b[0m in \u001b[0;36m<module>\u001b[0;34m\u001b[0m\n\u001b[0;32m----> 1\u001b[0;31m \u001b[0;32mfrom\u001b[0m \u001b[0mdolfin\u001b[0m \u001b[0;32mimport\u001b[0m \u001b[0;34m*\u001b[0m\u001b[0;34m\u001b[0m\u001b[0m\n\u001b[0m",
      "\u001b[0;31mModuleNotFoundError\u001b[0m: No module named 'dolfin'"
     ]
    }
   ],
   "source": [
    "# load in \n",
    "from dolfin import "
   ]
  },
  {
   "cell_type": "code",
   "execution_count": null,
   "metadata": {},
   "outputs": [],
   "source": []
  }
 ],
 "metadata": {
  "kernelspec": {
   "display_name": "Python 3",
   "language": "python",
   "name": "python3"
  },
  "language_info": {
   "codemirror_mode": {
    "name": "ipython",
    "version": 3
   },
   "file_extension": ".py",
   "mimetype": "text/x-python",
   "name": "python",
   "nbconvert_exporter": "python",
   "pygments_lexer": "ipython3",
   "version": "3.6.0"
  }
 },
 "nbformat": 4,
 "nbformat_minor": 2
}
