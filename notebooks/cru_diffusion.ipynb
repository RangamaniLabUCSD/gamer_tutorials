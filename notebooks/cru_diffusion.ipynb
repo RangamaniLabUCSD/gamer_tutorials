{
 "cells": [
  {
   "cell_type": "markdown",
   "metadata": {},
   "source": [
    "# Modeling Diffusion in the Calcium Release Unit\n",
    "\n",
    "This tutorial we setup and solve for the diffusion of molecules in the electron microscopy derived calcium release unit geometry generated in the [BlendGAMer tutorial](../tutorials/blendertutorial.html).\n",
    "In order to run this notebook you will need the following packages:\n",
    "   \n",
    "- Python environment\n",
    "- dolfin\n",
    "- tqdm"
   ]
  },
  {
   "cell_type": "code",
   "execution_count": 1,
   "metadata": {},
   "outputs": [],
   "source": [
    "from tqdm import tqdm      # Utility to generate progress bars\n",
    "import dolfin as d         # import dolfin\n",
    "\n",
    "# Suppress some of the text that FFC dumps to the notebook\n",
    "import logging\n",
    "logging.getLogger('FFC').setLevel(logging.WARNING)"
   ]
  },
  {
   "cell_type": "markdown",
   "metadata": {},
   "source": [
    "An easy way to get everything configure a suitable environment is using [conda](https://docs.continuum.io/anaconda/install/).\n",
    "Using `conda`, the following steps should configure everything you need. \n",
    "\n",
    "    conda create -n fenicsproject -c conda-forge fenics\n",
    "    conda activate fenicsproject\n",
    "    pip install jupyter tqdm"
   ]
  },
  {
   "cell_type": "markdown",
   "metadata": {},
   "source": [
    "If you have not completed the [BlendGAMer tutorial](../tutorials/blendertutorial.html), the tetrahedral mesh of the CRU can be [downloaded directly](https://github.com/ctlee/gamer_tutorials/blob/master/data/CRUTetmesh.xml)."
   ]
  },
  {
   "cell_type": "markdown",
   "metadata": {},
   "source": [
    "## Model of Diffusion With Decay (Strong Formulation)"
   ]
  },
  {
   "cell_type": "markdown",
   "metadata": {},
   "source": [
    "We will model the dynamics of a molecule with concentration $u$.\n",
    "The dynamics of $u$ are modeled as\n",
    "\n",
    "\\begin{equation*}\n",
    "\\frac{\\partial u}{\\partial t} = D\\nabla^2 u - \\frac{u}{\\tau} \\enspace \\text{in} \\enspace \\Omega,\n",
    "\\end{equation*}\n",
    "\n",
    "where $D$ is the diffusion constant, $\\tau$ is a decay constant, $\\Omega$ is the cytosolic domain, and $t$ is time.\n",
    "\n",
    "We define boundary conditions\n",
    "\n",
    "\\begin{align}\n",
    "D(\\mathbf{n} \\cdot \\nabla u) &= J_\\text{in} \\enspace\\text{on}\\enspace \\partial\\Omega_\\text{t-tubule}, \\\\\n",
    "D(\\mathbf{n} \\cdot \\nabla u) &= 0 \\enspace\\text{on}\\enspace \\partial\\Omega_\\text{other}, \\\\\n",
    "\\partial\\Omega &= \\partial\\Omega_\\text{t-tubule} \\cup \\partial\\Omega_\\text{other},\n",
    "\\end{align}\n",
    "\n",
    "where $J_\\text{in}$ is the inward flux on the t-tubule membrane ($\\partial \\Omega_\\text{t-tubule}$).\n",
    "No flux boundary conditions are applied to all other boundaries ($\\partial \\Omega_\\text{other}$).\n",
    "\n",
    "Finally we set an initial condition that there is no $u$ in the system at time $t=0$,\n",
    "\n",
    "\\begin{equation*}\n",
    "u(\\mathbf{x},t=0) = 0.\n",
    "\\end{equation*}\n",
    "\n",
    "We define the values for several physical parameters, initial condition, simulation length, and timestep next."
   ]
  },
  {
   "cell_type": "code",
   "execution_count": 2,
   "metadata": {},
   "outputs": [
    {
     "name": "stdout",
     "output_type": "stream",
     "text": [
      "Simulation will run 50 steps\n"
     ]
    }
   ],
   "source": [
    "# Model parameters:\n",
    "## Physical parameters\n",
    "D    = 30              # Diffusion coefficient [nm^2/us]\n",
    "jin  = 0.5             # Inward flux rate [uM*nm/us]\n",
    "tau  = 500             # Decay timescale [us]\n",
    "\n",
    "## Initial condition\n",
    "u0   = d.Constant(0.0) # Initial concentration of u at t=0 [uM]\n",
    "\n",
    "## Simulation time control\n",
    "T    = 5000.0          # Total simulation length [us]\n",
    "dt   =  100.0          # time step size [us]      \n",
    "t    =    0.0          # Initial time\n",
    "numsteps = round(T/dt)\n",
    "\n",
    "print(f\"Simulation will run {numsteps} steps\")"
   ]
  },
  {
   "cell_type": "markdown",
   "metadata": {},
   "source": [
    "## Model of Diffusion With Decay (Weak/Variational Formulation)\n",
    "\n",
    "The finite element method uses a variational formulation of the PDE which allows us to search for solutions from a larger function space. Equations input into FEniCS are done so through their variational formulation; we will now show how to convert our problem into a valid FEniCS input.\n",
    "\n",
    "First we multiply the governing PDE by a test function, $v$, coming from a function space $V$, integrate over the domain. \n",
    "\n",
    "\\begin{equation*}\n",
    "\\int_\\Omega \\frac{\\partial u}{\\partial t}v \\,dx = \\int_\\Omega D\\nabla^2uv \\,dx - \\int_\\Omega \\frac{u}{\\tau}v \\,dx\n",
    "\\end{equation*}\n",
    "\n",
    "We then apply the divergence theorem,\n",
    "\n",
    "\\begin{equation*}\n",
    "\\int D\\nabla^2uv \\,dx = -\\int_\\Omega D\\nabla u \\cdot \\nabla v \\,dx + \\int_{\\partial\\Omega} D(\\mathbf{n}\\cdot\\nabla u)v \\,ds,\n",
    "\\end{equation*}\n",
    "\n",
    "to obtain the following variational formulation:\n",
    "\n",
    "\\begin{equation*}\n",
    "\\boxed{\\int_\\Omega \\frac{\\partial u}{\\partial t}v \\,dx = -\\int_\\Omega D\\nabla u \\cdot \\nabla v \\,dx + \\int_{\\partial\\Omega} D(\\mathbf{n}\\cdot\\nabla u)v \\,ds -\\int_\\Omega \\frac{u}{\\tau}v \\,dx}\n",
    "\\end{equation*}\n",
    "\n",
    "We discretize the time-derivative with a backward Euler scheme due to its simplicity and unconditional stability properties,\n",
    "\n",
    "\\begin{equation*}\n",
    "\\frac{\\partial u}{\\partial t} \\approx \\frac{u - u_n}{\\Delta t},\n",
    "\\end{equation*}\n",
    "\n",
    "where $u_n$ represents the (known) solution computed at the previous timestep. \n",
    "We further simplify the variational formulation by inserting the Neumann boundary conditions and using the shorthand notation where $\\langle \\cdot , \\cdot \\rangle$ represents the inner-product over $\\Omega$ and $\\langle \\cdot , \\cdot \\rangle_{\\partial\\Omega_\\text{in}}$ represents the inner-product on the boundary $\\partial\\Omega_\\text{in}$. \n",
    "Terms are separated onto the left or right hand sides by their dependence on $u$:\n",
    "\n",
    "\\begin{equation*}\n",
    "\\boxed{\\langle u,v \\rangle + D\\Delta t \\langle \\nabla u,\\nabla v \\rangle + \\frac{\\Delta t}{\\tau}\\langle u,v \\rangle =  \\Delta t \\langle J_\\text{in},v \\rangle_{\\partial\\Omega_\\text{in}} + \\langle u_n,v \\rangle}\n",
    "\\end{equation*}\n",
    "\n",
    "Notice that since $u_n$ is a known value it is not dependent on the unknown, $u$, and therefore is placed on the right hand side. Also, since $D(\\mathbf{n}\\cdot \\nabla u)=0$ on the no-flux boundary those terms drop out of the variational formulation.\n",
    "\n",
    "In the abstract form this is written as,\n",
    "\n",
    "\\begin{align}\n",
    "a(u,v) &= \\langle u,v \\rangle  + D\\Delta t \\langle \\nabla u,\\nabla v \\rangle + \\frac{\\Delta t}{\\tau} \\langle u,v \\rangle, \\\\\n",
    "L(v) &= \\Delta t \\langle J_\\text{in},v \\rangle_{\\partial\\Omega_\\text{in}} + \\langle u_n,v \\rangle, \n",
    "\\end{align}\n",
    "\n",
    "where $a(u,v)$ is a bilinear form and $L(v)$ is a linear functional."
   ]
  },
  {
   "cell_type": "markdown",
   "metadata": {},
   "source": [
    "## Solving the Linear Problem Using Dolfin/FEniCS"
   ]
  },
  {
   "cell_type": "code",
   "execution_count": 3,
   "metadata": {},
   "outputs": [],
   "source": [
    "# Import the mesh and construct a linear Lagrange function space over the mesh\n",
    "dolfin_mesh = d.Mesh('../data/CRUTetmesh.xml')\n",
    "V = d.FunctionSpace(dolfin_mesh,'P',1)"
   ]
  },
  {
   "cell_type": "code",
   "execution_count": 4,
   "metadata": {},
   "outputs": [],
   "source": [
    "# Define trial and test functions\n",
    "u = d.TrialFunction(V)\n",
    "v = d.TestFunction(V)\n",
    "# Known solution corresponding to previous timestep. Initialize with initial condition\n",
    "un = d.interpolate(u0, V)"
   ]
  },
  {
   "cell_type": "code",
   "execution_count": 5,
   "metadata": {},
   "outputs": [],
   "source": [
    "# Recall that in the CRU tutorial we applied the following boundary markings\n",
    "# Cytosol = 10\n",
    "# Mitochondria = 20\n",
    "# T-tubule = 30\n",
    "# SR = 40\n",
    "\n",
    "# define integration domains\n",
    "face_dimension = 2 # we marked faces which have a topological dimension of 2 (triangles)\n",
    "# Pull out a subdomain of all faces\n",
    "meshBoundary = d.MeshFunction(\"size_t\", dolfin_mesh, face_dimension, dolfin_mesh.domains())\n",
    "\n",
    "# Setup \"measures\" to refer to volume and boundary elements\n",
    "# Create a measure for the volume\n",
    "dx = d.Measure('dx', domain = dolfin_mesh)\n",
    "# Create a measure for boundary \n",
    "ds = d.Measure('ds', domain = dolfin_mesh, subdomain_data = meshBoundary)"
   ]
  },
  {
   "cell_type": "markdown",
   "metadata": {},
   "source": [
    "Recalling the abstract form:\n",
    "\\begin{align}\n",
    "a(u,v) &= \\left(1+\\frac{\\Delta t}{\\tau}\\right) \\langle u,v \\rangle  + D\\Delta t \\langle \\nabla u,\\nabla v \\rangle, \\\\\n",
    "L(v) &= \\Delta t \\langle J_\\text{in},v \\rangle_{\\partial\\Omega_\\text{t-tubule}} + \\langle u_n,v \\rangle,\n",
    "\\end{align}\n",
    "\n",
    "note that the no-flux boundary conditions on $\\partial\\Omega_\\text{other}$ nullify those terms."
   ]
  },
  {
   "cell_type": "code",
   "execution_count": 6,
   "metadata": {},
   "outputs": [],
   "source": [
    "# define bilinear and linear forms\n",
    "a = (1+dt/tau)*u*v*dx + D*dt*d.inner(d.grad(u),d.grad(v))*dx\n",
    "# ds(30) is the surface of the t-tubule\n",
    "L = dt*jin*v*ds(30) + un*v*dx"
   ]
  },
  {
   "cell_type": "markdown",
   "metadata": {},
   "source": [
    "### Solve and Save the Simulation"
   ]
  },
  {
   "cell_type": "code",
   "execution_count": 7,
   "metadata": {
    "scrolled": true
   },
   "outputs": [
    {
     "name": "stderr",
     "output_type": "stream",
     "text": [
      "100%|██████████| 50/50 [00:51<00:00,  1.03s/it]\n"
     ]
    }
   ],
   "source": [
    "filename = 'solution/dolfinOut.pvd'\n",
    "vtkfile = d.File(filename)\n",
    "\n",
    "# store the initial condition\n",
    "u = d.Function(V)\n",
    "un.rename(\"u\", \"solution\")\n",
    "u.rename(\"u\", \"solution\")\n",
    "vtkfile << (un,t)\n",
    "\n",
    "# Main loop\n",
    "for idx in tqdm(range(numsteps)):\n",
    "    # step forward in time\n",
    "    t += dt \n",
    "    # Solve the linear problem\n",
    "    d.solve(a==L, u)\n",
    "    # Write the solution for the current timestep to file\n",
    "    vtkfile << (u,t) \n",
    "    # Copy solution to un\n",
    "    un.assign(u)"
   ]
  },
  {
   "cell_type": "markdown",
   "metadata": {},
   "source": [
    "Solutions at each timestep are saved in the $\\texttt{.vtk}$ format (the collection of snapshots is stored in the $\\texttt{dolfinOut.pvd}$ file) and can be visualized using software such as Paraview."
   ]
  }
 ],
 "metadata": {
  "kernelspec": {
   "display_name": "Python 3",
   "language": "python",
   "name": "python3"
  },
  "language_info": {
   "codemirror_mode": {
    "name": "ipython",
    "version": 3
   },
   "file_extension": ".py",
   "mimetype": "text/x-python",
   "name": "python",
   "nbconvert_exporter": "python",
   "pygments_lexer": "ipython3",
   "version": "3.7.3"
  }
 },
 "nbformat": 4,
 "nbformat_minor": 4
}
